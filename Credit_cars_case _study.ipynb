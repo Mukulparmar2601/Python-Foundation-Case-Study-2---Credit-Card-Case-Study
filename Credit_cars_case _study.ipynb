{
 "cells": [
  {
   "cell_type": "code",
   "execution_count": 28,
   "metadata": {},
   "outputs": [],
   "source": [
    "import numpy as np\n",
    "import pandas as pd\n",
    "import datetime as dt\n",
    "import matplotlib.pyplot as plt\n",
    "import seaborn as sns"
   ]
  },
  {
   "cell_type": "code",
   "execution_count": 21,
   "metadata": {},
   "outputs": [],
   "source": [
    "repayment= pd.read_csv('Repayment.csv').convert_dtypes()\n",
    "spend = pd.read_csv('spend.csv').convert_dtypes()\n",
    "cust_acq = pd.read_csv('Customer Acqusition.csv').convert_dtypes()\n",
    "credit= pd.read_excel('Credit Card Data.xlsx').convert_dtypes()\n",
    "spend['Month']=pd.to_datetime(spend['Month'])\n",
    "spend['Amount']=spend['Amount'].astype('float')\n",
    "repayment.dropna(subset=['Customer'],inplace=True)\n",
    "repayment['Month']=pd.to_datetime(repayment['Month'])\n",
    "repayment['Amount']=repayment['Amount'].astype('float')\n",
    "cust_spend= spend.merge(cust_acq,on='Customer',how='left')\n",
    "cust_repayment= repayment.merge(cust_acq, on= 'Customer', how='left')"
   ]
  },
  {
   "cell_type": "code",
   "execution_count": 3,
   "metadata": {},
   "outputs": [
    {
     "data": {
      "text/html": [
       "<div>\n",
       "<style scoped>\n",
       "    .dataframe tbody tr th:only-of-type {\n",
       "        vertical-align: middle;\n",
       "    }\n",
       "\n",
       "    .dataframe tbody tr th {\n",
       "        vertical-align: top;\n",
       "    }\n",
       "\n",
       "    .dataframe thead th {\n",
       "        text-align: right;\n",
       "    }\n",
       "</style>\n",
       "<table border=\"1\" class=\"dataframe\">\n",
       "  <thead>\n",
       "    <tr style=\"text-align: right;\">\n",
       "      <th></th>\n",
       "      <th>No</th>\n",
       "      <th>Customer</th>\n",
       "      <th>Age</th>\n",
       "      <th>City</th>\n",
       "      <th>Product</th>\n",
       "      <th>Limit</th>\n",
       "      <th>Company</th>\n",
       "      <th>Segment</th>\n",
       "    </tr>\n",
       "  </thead>\n",
       "  <tbody>\n",
       "    <tr>\n",
       "      <th>0</th>\n",
       "      <td>1</td>\n",
       "      <td>A1</td>\n",
       "      <td>76</td>\n",
       "      <td>BANGALORE</td>\n",
       "      <td>Gold</td>\n",
       "      <td>500000</td>\n",
       "      <td>C1</td>\n",
       "      <td>Self Employed</td>\n",
       "    </tr>\n",
       "    <tr>\n",
       "      <th>1</th>\n",
       "      <td>2</td>\n",
       "      <td>A2</td>\n",
       "      <td>71</td>\n",
       "      <td>CALCUTTA</td>\n",
       "      <td>Silver</td>\n",
       "      <td>100000</td>\n",
       "      <td>C2</td>\n",
       "      <td>Salaried_MNC</td>\n",
       "    </tr>\n",
       "    <tr>\n",
       "      <th>2</th>\n",
       "      <td>3</td>\n",
       "      <td>A3</td>\n",
       "      <td>34</td>\n",
       "      <td>COCHIN</td>\n",
       "      <td>Platimum</td>\n",
       "      <td>10000</td>\n",
       "      <td>C3</td>\n",
       "      <td>Salaried_Pvt</td>\n",
       "    </tr>\n",
       "    <tr>\n",
       "      <th>3</th>\n",
       "      <td>4</td>\n",
       "      <td>A4</td>\n",
       "      <td>47</td>\n",
       "      <td>BOMBAY</td>\n",
       "      <td>Platimum</td>\n",
       "      <td>10001</td>\n",
       "      <td>C4</td>\n",
       "      <td>Govt</td>\n",
       "    </tr>\n",
       "    <tr>\n",
       "      <th>4</th>\n",
       "      <td>5</td>\n",
       "      <td>A5</td>\n",
       "      <td>56</td>\n",
       "      <td>BANGALORE</td>\n",
       "      <td>Platimum</td>\n",
       "      <td>10002</td>\n",
       "      <td>C5</td>\n",
       "      <td>Normal Salary</td>\n",
       "    </tr>\n",
       "    <tr>\n",
       "      <th>...</th>\n",
       "      <td>...</td>\n",
       "      <td>...</td>\n",
       "      <td>...</td>\n",
       "      <td>...</td>\n",
       "      <td>...</td>\n",
       "      <td>...</td>\n",
       "      <td>...</td>\n",
       "      <td>...</td>\n",
       "    </tr>\n",
       "    <tr>\n",
       "      <th>95</th>\n",
       "      <td>96</td>\n",
       "      <td>A96</td>\n",
       "      <td>54</td>\n",
       "      <td>CHENNAI</td>\n",
       "      <td>Silver</td>\n",
       "      <td>100000</td>\n",
       "      <td>C19</td>\n",
       "      <td>Salaried_Pvt</td>\n",
       "    </tr>\n",
       "    <tr>\n",
       "      <th>96</th>\n",
       "      <td>97</td>\n",
       "      <td>A97</td>\n",
       "      <td>58</td>\n",
       "      <td>TRIVANDRUM</td>\n",
       "      <td>Platimum</td>\n",
       "      <td>10000</td>\n",
       "      <td>C20</td>\n",
       "      <td>Govt</td>\n",
       "    </tr>\n",
       "    <tr>\n",
       "      <th>97</th>\n",
       "      <td>98</td>\n",
       "      <td>A98</td>\n",
       "      <td>51</td>\n",
       "      <td>CALCUTTA</td>\n",
       "      <td>Platimum</td>\n",
       "      <td>10001</td>\n",
       "      <td>C21</td>\n",
       "      <td>Normal Salary</td>\n",
       "    </tr>\n",
       "    <tr>\n",
       "      <th>98</th>\n",
       "      <td>99</td>\n",
       "      <td>A99</td>\n",
       "      <td>35</td>\n",
       "      <td>CALCUTTA</td>\n",
       "      <td>Platimum</td>\n",
       "      <td>10002</td>\n",
       "      <td>C22</td>\n",
       "      <td>Self Employed</td>\n",
       "    </tr>\n",
       "    <tr>\n",
       "      <th>99</th>\n",
       "      <td>100</td>\n",
       "      <td>A100</td>\n",
       "      <td>36</td>\n",
       "      <td>COCHIN</td>\n",
       "      <td>Silver</td>\n",
       "      <td>100000</td>\n",
       "      <td>C5</td>\n",
       "      <td>Salaried_MNC</td>\n",
       "    </tr>\n",
       "  </tbody>\n",
       "</table>\n",
       "<p>100 rows × 8 columns</p>\n",
       "</div>"
      ],
      "text/plain": [
       "     No Customer  Age        City   Product   Limit Company        Segment\n",
       "0     1       A1   76   BANGALORE      Gold  500000      C1  Self Employed\n",
       "1     2       A2   71    CALCUTTA    Silver  100000      C2   Salaried_MNC\n",
       "2     3       A3   34      COCHIN  Platimum   10000      C3   Salaried_Pvt\n",
       "3     4       A4   47      BOMBAY  Platimum   10001      C4           Govt\n",
       "4     5       A5   56   BANGALORE  Platimum   10002      C5  Normal Salary\n",
       "..  ...      ...  ...         ...       ...     ...     ...            ...\n",
       "95   96      A96   54     CHENNAI    Silver  100000     C19   Salaried_Pvt\n",
       "96   97      A97   58  TRIVANDRUM  Platimum   10000     C20           Govt\n",
       "97   98      A98   51    CALCUTTA  Platimum   10001     C21  Normal Salary\n",
       "98   99      A99   35    CALCUTTA  Platimum   10002     C22  Self Employed\n",
       "99  100     A100   36      COCHIN    Silver  100000      C5   Salaried_MNC\n",
       "\n",
       "[100 rows x 8 columns]"
      ]
     },
     "execution_count": 3,
     "metadata": {},
     "output_type": "execute_result"
    }
   ],
   "source": [
    "cust_acq"
   ]
  },
  {
   "cell_type": "code",
   "execution_count": 4,
   "metadata": {},
   "outputs": [
    {
     "data": {
      "text/html": [
       "<div>\n",
       "<style scoped>\n",
       "    .dataframe tbody tr th:only-of-type {\n",
       "        vertical-align: middle;\n",
       "    }\n",
       "\n",
       "    .dataframe tbody tr th {\n",
       "        vertical-align: top;\n",
       "    }\n",
       "\n",
       "    .dataframe thead th {\n",
       "        text-align: right;\n",
       "    }\n",
       "</style>\n",
       "<table border=\"1\" class=\"dataframe\">\n",
       "  <thead>\n",
       "    <tr style=\"text-align: right;\">\n",
       "      <th></th>\n",
       "      <th>SL No:</th>\n",
       "      <th>Customer</th>\n",
       "      <th>Month</th>\n",
       "      <th>Amount</th>\n",
       "    </tr>\n",
       "  </thead>\n",
       "  <tbody>\n",
       "    <tr>\n",
       "      <th>0</th>\n",
       "      <td>1</td>\n",
       "      <td>A1</td>\n",
       "      <td>2004-01-12</td>\n",
       "      <td>338932.141919</td>\n",
       "    </tr>\n",
       "    <tr>\n",
       "      <th>1</th>\n",
       "      <td>2</td>\n",
       "      <td>A1</td>\n",
       "      <td>2004-01-03</td>\n",
       "      <td>131778.688758</td>\n",
       "    </tr>\n",
       "    <tr>\n",
       "      <th>2</th>\n",
       "      <td>3</td>\n",
       "      <td>A1</td>\n",
       "      <td>2004-01-15</td>\n",
       "      <td>485981.516736</td>\n",
       "    </tr>\n",
       "    <tr>\n",
       "      <th>3</th>\n",
       "      <td>4</td>\n",
       "      <td>A1</td>\n",
       "      <td>2004-01-25</td>\n",
       "      <td>452865.826385</td>\n",
       "    </tr>\n",
       "    <tr>\n",
       "      <th>4</th>\n",
       "      <td>5</td>\n",
       "      <td>A1</td>\n",
       "      <td>2005-01-17</td>\n",
       "      <td>154684.838196</td>\n",
       "    </tr>\n",
       "    <tr>\n",
       "      <th>...</th>\n",
       "      <td>...</td>\n",
       "      <td>...</td>\n",
       "      <td>...</td>\n",
       "      <td>...</td>\n",
       "    </tr>\n",
       "    <tr>\n",
       "      <th>1495</th>\n",
       "      <td>1496</td>\n",
       "      <td>A67</td>\n",
       "      <td>2005-05-09</td>\n",
       "      <td>461916.04796</td>\n",
       "    </tr>\n",
       "    <tr>\n",
       "      <th>1496</th>\n",
       "      <td>1497</td>\n",
       "      <td>A68</td>\n",
       "      <td>2006-05-10</td>\n",
       "      <td>269635.645462</td>\n",
       "    </tr>\n",
       "    <tr>\n",
       "      <th>1497</th>\n",
       "      <td>1498</td>\n",
       "      <td>A69</td>\n",
       "      <td>2006-07-11</td>\n",
       "      <td>181524.046445</td>\n",
       "    </tr>\n",
       "    <tr>\n",
       "      <th>1498</th>\n",
       "      <td>1499</td>\n",
       "      <td>A70</td>\n",
       "      <td>2005-08-12</td>\n",
       "      <td>308330.678493</td>\n",
       "    </tr>\n",
       "    <tr>\n",
       "      <th>1499</th>\n",
       "      <td>1500</td>\n",
       "      <td>A71</td>\n",
       "      <td>2004-09-13</td>\n",
       "      <td>125220.127871</td>\n",
       "    </tr>\n",
       "  </tbody>\n",
       "</table>\n",
       "<p>1500 rows × 4 columns</p>\n",
       "</div>"
      ],
      "text/plain": [
       "      SL No: Customer      Month         Amount\n",
       "0          1       A1 2004-01-12  338932.141919\n",
       "1          2       A1 2004-01-03  131778.688758\n",
       "2          3       A1 2004-01-15  485981.516736\n",
       "3          4       A1 2004-01-25  452865.826385\n",
       "4          5       A1 2005-01-17  154684.838196\n",
       "...      ...      ...        ...            ...\n",
       "1495    1496      A67 2005-05-09   461916.04796\n",
       "1496    1497      A68 2006-05-10  269635.645462\n",
       "1497    1498      A69 2006-07-11  181524.046445\n",
       "1498    1499      A70 2005-08-12  308330.678493\n",
       "1499    1500      A71 2004-09-13  125220.127871\n",
       "\n",
       "[1500 rows x 4 columns]"
      ]
     },
     "execution_count": 4,
     "metadata": {},
     "output_type": "execute_result"
    }
   ],
   "source": [
    "credit"
   ]
  },
  {
   "cell_type": "code",
   "execution_count": 5,
   "metadata": {},
   "outputs": [],
   "source": [
    "# 1.a)\n",
    "cust_acq['Age'] = np.where(cust_acq.Age<18,cust_acq.Age.mean(),cust_acq.Age)"
   ]
  },
  {
   "cell_type": "code",
   "execution_count": 6,
   "metadata": {},
   "outputs": [],
   "source": [
    "#1.b)\n",
    "merged= spend.merge(cust_acq,how='left',on='Customer')\n",
    "spend['Amount']= np.where(merged.Amount>merged.Limit,merged.Amount/2,merged.Amount)"
   ]
  },
  {
   "cell_type": "code",
   "execution_count": 7,
   "metadata": {},
   "outputs": [],
   "source": [
    "#1.c)\n",
    "repayment.dropna(subset=['Customer'],inplace=True)\n",
    "merged1 =repayment.merge(cust_acq,how='left',on='Customer')\n",
    "repayment['Amount']=np.where(merged1.Amount>merged1.Limit,merged1.Limit,merged1.Amount)"
   ]
  },
  {
   "cell_type": "code",
   "execution_count": 33,
   "metadata": {},
   "outputs": [
    {
     "name": "stdout",
     "output_type": "stream",
     "text": [
      "No. of customer= 100\n"
     ]
    }
   ],
   "source": [
    "#2.a)\n",
    "print('No. of customer=',cust_acq['Customer'].count())\n"
   ]
  },
  {
   "cell_type": "code",
   "execution_count": 34,
   "metadata": {},
   "outputs": [
    {
     "name": "stdout",
     "output_type": "stream",
     "text": [
      "No.of categories= 5\n"
     ]
    }
   ],
   "source": [
    "#2.b)\n",
    "print('No.of categories=',cust_acq['Segment'].drop_duplicates().count())"
   ]
  },
  {
   "cell_type": "code",
   "execution_count": 9,
   "metadata": {},
   "outputs": [
    {
     "data": {
      "text/plain": [
       "Month\n",
       "1     194710.418438\n",
       "2     186455.995840\n",
       "3     181677.998983\n",
       "4     178603.764100\n",
       "5     189569.413548\n",
       "6     206504.822411\n",
       "7     209148.671548\n",
       "8     196979.307619\n",
       "9     174536.387619\n",
       "10    169077.894286\n",
       "11    192591.394405\n",
       "12    156522.573571\n",
       "Name: Amount, dtype: float64"
      ]
     },
     "execution_count": 9,
     "metadata": {},
     "output_type": "execute_result"
    }
   ],
   "source": [
    "#2.c)\n",
    "spend.groupby(spend.Month.dt.month).mean()['Amount']"
   ]
  },
  {
   "cell_type": "code",
   "execution_count": 25,
   "metadata": {},
   "outputs": [
    {
     "name": "stdout",
     "output_type": "stream",
     "text": [
      "Month\n",
      "1     245121.019624\n",
      "2     248756.162368\n",
      "3     241654.966393\n",
      "4     259649.413200\n",
      "5     257669.622782\n",
      "6     220647.477083\n",
      "7     253512.325102\n",
      "8     254564.734898\n",
      "9     226865.354750\n",
      "10    240307.718333\n",
      "11    229867.344524\n",
      "12    286557.952500\n",
      "Name: Amount, dtype: float64\n"
     ]
    }
   ],
   "source": [
    "#2.d)\n",
    "print(repayment.groupby(by=repayment.Month.dt.month).mean()['Amount'])"
   ]
  },
  {
   "cell_type": "code",
   "execution_count": null,
   "metadata": {},
   "outputs": [
    {
     "data": {
      "text/plain": [
       "Month\n",
       "1     325599.54015\n",
       "3      114916.8036\n",
       "6      84777.30225\n",
       "9       4028.71712\n",
       "10      7612.04818\n",
       "11     46850.32099\n",
       "Name: Amount, dtype: Float64"
      ]
     },
     "execution_count": 149,
     "metadata": {},
     "output_type": "execute_result"
    }
   ],
   "source": [
    "#2.e)\n",
    "profit=spend.groupby(spend.Month.dt.month).sum()['Amount']-repayment.groupby(repayment.Month.dt.month).sum()['Amount']\n",
    "profit[profit>0]*2.9/100"
   ]
  },
  {
   "cell_type": "code",
   "execution_count": null,
   "metadata": {},
   "outputs": [
    {
     "data": {
      "text/plain": [
       "Type\n",
       "PETRO           49863174.09\n",
       "CAMERA          41481571.96\n",
       "FOOD            37773338.43\n",
       "TRAIN TICKET    33067077.15\n",
       "AIR TICKET      32955445.42\n",
       "Name: Amount, dtype: float64"
      ]
     },
     "execution_count": 150,
     "metadata": {},
     "output_type": "execute_result"
    }
   ],
   "source": [
    "#2.f)\n",
    "(spend.groupby('Type').sum()['Amount'].sort_values(ascending=False))[0:5]"
   ]
  },
  {
   "cell_type": "code",
   "execution_count": null,
   "metadata": {},
   "outputs": [
    {
     "data": {
      "text/plain": [
       "'COCHIN'"
      ]
     },
     "execution_count": 41,
     "metadata": {},
     "output_type": "execute_result"
    }
   ],
   "source": [
    "#2.g)\n",
    "(cust_spend).groupby('City').sum()['Amount'].sort_values(ascending=False).index[0]"
   ]
  },
  {
   "cell_type": "code",
   "execution_count": null,
   "metadata": {},
   "outputs": [
    {
     "data": {
      "text/plain": [
       "'adult'"
      ]
     },
     "execution_count": 43,
     "metadata": {},
     "output_type": "execute_result"
    }
   ],
   "source": [
    "#2.h)\n",
    "cust_acq['age_group']=np.where(cust_acq.Age<25,'youth',np.where(cust_acq.Age<60,'adult','senior'))\n",
    "spend.merge(cust_acq,on='Customer',how='left').groupby('age_group')['Amount'].sum().sort_values(ascending=False).index[0]"
   ]
  },
  {
   "cell_type": "code",
   "execution_count": null,
   "metadata": {},
   "outputs": [
    {
     "data": {
      "text/plain": [
       "Customer\n",
       "A61    10539142.91\n",
       "A60     9876290.74\n",
       "A13     9572000.66\n",
       "A22     9372561.68\n",
       "A21     9056336.15\n",
       "A43     8489871.46\n",
       "A45     8448334.87\n",
       "A12     8334760.16\n",
       "A48     8292416.75\n",
       "A14     7943268.63\n",
       "Name: Amount, dtype: float64"
      ]
     },
     "execution_count": 44,
     "metadata": {},
     "output_type": "execute_result"
    }
   ],
   "source": [
    "#2.i)\n",
    "pd.DataFrame(cust_repayment.groupby('Customer')['Amount'].sum().sort_values(ascending=False)).iloc[0:10,0]\n"
   ]
  },
  {
   "cell_type": "code",
   "execution_count": 29,
   "metadata": {},
   "outputs": [
    {
     "data": {
      "image/png": "[encoded data removed]",
      "text/plain": [
       "<Figure size 432x288 with 1 Axes>"
      ]
     },
     "metadata": {
      "needs_background": "light"
     },
     "output_type": "display_data"
    }
   ],
   "source": [
    "#3)\n",
    "pd.pivot_table(data=cust_spend,values='Amount',columns=['Product',cust_spend.Month.dt.year],index='City',aggfunc='sum').plot(kind='bar',stacked=\"True\")\n",
    "plt.show()"
   ]
  },
  {
   "cell_type": "code",
   "execution_count": 30,
   "metadata": {},
   "outputs": [
    {
     "data": {
      "image/png": "[encoded data removed]",
      "text/plain": [
       "<Figure size 432x288 with 1 Axes>"
      ]
     },
     "metadata": {
      "needs_background": "light"
     },
     "output_type": "display_data"
    }
   ],
   "source": [
    "#4.a)\n",
    "pd.pivot_table(cust_spend,index=cust_spend.Month.dt.month,columns='City',values=\"Amount\",aggfunc='sum').plot(kind='bar',stacked='True')\n",
    "plt.show()"
   ]
  },
  {
   "cell_type": "code",
   "execution_count": 31,
   "metadata": {},
   "outputs": [
    {
     "data": {
      "image/png": "[encoded data removed]",
      "text/plain": [
       "<Figure size 432x288 with 1 Axes>"
      ]
     },
     "metadata": {
      "needs_background": "light"
     },
     "output_type": "display_data"
    }
   ],
   "source": [
    "#4.b)\n",
    "pd.pivot_table(data=spend[spend['Type']=='AIR TICKET'],values='Amount',columns=spend.Month.dt.year,index='Type',aggfunc='sum').plot(kind='bar')\n",
    "plt.show()"
   ]
  },
  {
   "cell_type": "code",
   "execution_count": 32,
   "metadata": {},
   "outputs": [
    {
     "data": {
      "image/png": "[encoded data removed]",
      "text/plain": [
       "<Figure size 432x288 with 1 Axes>"
      ]
     },
     "metadata": {
      "needs_background": "light"
     },
     "output_type": "display_data"
    }
   ],
   "source": [
    "#4.c)\n",
    "pd.pivot_table(data=cust_spend,index=cust_spend.Month.dt.month, columns='Product',values='Amount',aggfunc='sum').plot(kind='bar')\n",
    "plt.show()"
   ]
  },
  {
   "cell_type": "code",
   "execution_count": null,
   "metadata": {},
   "outputs": [
    {
     "name": "stdout",
     "output_type": "stream",
     "text": [
      "                              Amount\n",
      "Customer City      Month            \n",
      "A22      BOMBAY    1      3832158.23\n",
      "A25      COCHIN    5      1981504.65\n",
      "A8       PATNA     1      1966760.70\n",
      "A18      BANGALORE 3      1950621.08\n",
      "A46      PATNA     1      1903154.83\n",
      "                   5      1838527.38\n",
      "A6       DELHI     1      1814302.75\n",
      "A46      PATNA     2      1736567.47\n",
      "A23      BANGALORE 5      1689987.35\n",
      "                   1      1597308.11\n"
     ]
    }
   ],
   "source": [
    "#5\n",
    "\n",
    "product= input('Enter the product (Gold/Silver/Platinum)')\n",
    "period = input('Enter the time period (monthly/yearly) ')\n",
    "def check(data,prod,time):\n",
    "    if time=='Yearly':\n",
    "        return pd.pivot_table(data=data[data['Product']==prod],index=['Customer','City',data.Month.dt.year],values='Amount',aggfunc='sum').sort_values(by='Amount',ascending=False).iloc[0:10]\n",
    "    elif time=='Monthly':\n",
    "        return pd.pivot_table(data=data[data['Product']==prod],index=['Customer','City',data.Month.dt.month],values='Amount',aggfunc='sum').sort_values(by='Amount',ascending=False).iloc[0:10]\n",
    "\n",
    "print(check(cust_repayment,product,period))"
   ]
  }
 ],
 "metadata": {
  "kernelspec": {
   "display_name": "Python 3.9.12 ('base')",
   "language": "python",
   "name": "python3"
  },
  "language_info": {
   "codemirror_mode": {
    "name": "ipython",
    "version": 3
   },
   "file_extension": ".py",
   "mimetype": "text/x-python",
   "name": "python",
   "nbconvert_exporter": "python",
   "pygments_lexer": "ipython3",
   "version": "3.9.12"
  },
  "orig_nbformat": 4,
  "vscode": {
   "interpreter": {
    "hash": "dc07d24e2f18896857f0b2a651fe84ba40ce7b297e58d8804a308c8039f752a6"
   }
  }
 },
 "nbformat": 4,
 "nbformat_minor": 2
}
